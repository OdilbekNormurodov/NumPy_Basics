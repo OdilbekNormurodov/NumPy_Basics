{
 "cells": [
  {
   "cell_type": "code",
   "execution_count": 1,
   "id": "f842584a",
   "metadata": {},
   "outputs": [],
   "source": [
    "import numpy as np"
   ]
  },
  {
   "cell_type": "code",
   "execution_count": 2,
   "id": "29437602",
   "metadata": {},
   "outputs": [],
   "source": [
    "a = np.array([1, 2, 3, 4])\n",
    "b = np.array([10, 20, 30, 40])"
   ]
  },
  {
   "cell_type": "code",
   "execution_count": 3,
   "id": "a6bffc9e",
   "metadata": {},
   "outputs": [
    {
     "name": "stdout",
     "output_type": "stream",
     "text": [
      "[11 22 33 44]\n",
      "[11 22 33 44]\n"
     ]
    }
   ],
   "source": [
    "print(a + b)                # element-wise addition\n",
    "print(np.add(a, b)) # equivalent using function"
   ]
  },
  {
   "cell_type": "code",
   "execution_count": 4,
   "id": "926148ca",
   "metadata": {},
   "outputs": [
    {
     "name": "stdout",
     "output_type": "stream",
     "text": [
      "[ 9 18 27 36]\n",
      "[ 9 18 27 36]\n"
     ]
    }
   ],
   "source": [
    "print(b - a)                 # element-wise subtraction\n",
    "print(np.subtract(b, a))"
   ]
  },
  {
   "cell_type": "code",
   "execution_count": 5,
   "id": "892c4e78",
   "metadata": {},
   "outputs": [
    {
     "name": "stdout",
     "output_type": "stream",
     "text": [
      "[ 10  40  90 160]\n",
      "[ 10  40  90 160]\n"
     ]
    }
   ],
   "source": [
    "print(a * b)                 # element-wise multiplication\n",
    "print(np.multiply(a, b))"
   ]
  },
  {
   "cell_type": "code",
   "execution_count": 6,
   "id": "97aec835",
   "metadata": {},
   "outputs": [
    {
     "name": "stdout",
     "output_type": "stream",
     "text": [
      "[10. 10. 10. 10.]\n",
      "[10. 10. 10. 10.]\n"
     ]
    }
   ],
   "source": [
    "print(b / a)                 # element-wise division\n",
    "print(np.divide(b, a))"
   ]
  },
  {
   "cell_type": "code",
   "execution_count": 7,
   "id": "82a12b98",
   "metadata": {},
   "outputs": [
    {
     "name": "stdout",
     "output_type": "stream",
     "text": [
      "[ 1  4  9 16]\n",
      "[ 1  8 27 64]\n"
     ]
    }
   ],
   "source": [
    "print(a ** 2)               # a ni kvadrat qilish\n",
    "print(np.power(a, 3)) # a ni kubga oshirish"
   ]
  },
  {
   "cell_type": "code",
   "execution_count": 8,
   "id": "5e5662d5",
   "metadata": {},
   "outputs": [
    {
     "name": "stdout",
     "output_type": "stream",
     "text": [
      "[0 0 0 0]\n",
      "[0 0 0 0]\n"
     ]
    }
   ],
   "source": [
    "print(b % a)\n",
    "print(np.mod(b, a))"
   ]
  },
  {
   "cell_type": "code",
   "execution_count": 9,
   "id": "bb988fae",
   "metadata": {},
   "outputs": [
    {
     "name": "stdout",
     "output_type": "stream",
     "text": [
      "[10 10 10 10]\n",
      "[10 10 10 10]\n"
     ]
    }
   ],
   "source": [
    "print(b // a)\n",
    "print(np.floor_divide(b, a))"
   ]
  },
  {
   "cell_type": "code",
   "execution_count": 10,
   "id": "a2a55a79",
   "metadata": {},
   "outputs": [
    {
     "name": "stdout",
     "output_type": "stream",
     "text": [
      "[6 7 8 9]\n",
      "[20 40 60 80]\n"
     ]
    }
   ],
   "source": [
    "print(a + 5)                # har bir elementga 5 qo‘shiladi\n",
    "print(b * 2)                # har bir element 2 ga ko‘payadi"
   ]
  },
  {
   "cell_type": "code",
   "execution_count": 11,
   "id": "9368b48c",
   "metadata": {},
   "outputs": [
    {
     "name": "stdout",
     "output_type": "stream",
     "text": [
      "2.5\n",
      "40\n",
      "1\n",
      "10\n"
     ]
    }
   ],
   "source": [
    "print(np.mean(a))\n",
    "print(np.max(b))\n",
    "print(np.min(a))\n",
    "print(np.sum(a))"
   ]
  }
 ],
 "metadata": {
  "kernelspec": {
   "display_name": "Python 3",
   "language": "python",
   "name": "python3"
  },
  "language_info": {
   "codemirror_mode": {
    "name": "ipython",
    "version": 3
   },
   "file_extension": ".py",
   "mimetype": "text/x-python",
   "name": "python",
   "nbconvert_exporter": "python",
   "pygments_lexer": "ipython3",
   "version": "3.13.3"
  }
 },
 "nbformat": 4,
 "nbformat_minor": 5
}
