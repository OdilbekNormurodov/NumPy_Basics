{
 "cells": [
  {
   "cell_type": "code",
   "execution_count": 1,
   "id": "aa677d46",
   "metadata": {},
   "outputs": [],
   "source": [
    "import numpy as np"
   ]
  },
  {
   "cell_type": "code",
   "execution_count": null,
   "id": "63622a99",
   "metadata": {},
   "outputs": [],
   "source": [
    "data1 = [3.5, 5, 6, 2] # list\n",
    "arr1 = np.array(data1) # array1 "
   ]
  },
  {
   "cell_type": "code",
   "execution_count": 4,
   "id": "8790c722",
   "metadata": {},
   "outputs": [
    {
     "data": {
      "text/plain": [
       "array([3.5, 5. , 6. , 2. ])"
      ]
     },
     "execution_count": 4,
     "metadata": {},
     "output_type": "execute_result"
    }
   ],
   "source": [
    "arr1"
   ]
  },
  {
   "cell_type": "code",
   "execution_count": 30,
   "id": "a8332125",
   "metadata": {},
   "outputs": [],
   "source": [
    "data2 = (4, 5, 3.2, 7) # tuple\n",
    "arr2 = np.array(data2)"
   ]
  },
  {
   "cell_type": "code",
   "execution_count": 33,
   "id": "de7b7224",
   "metadata": {},
   "outputs": [
    {
     "data": {
      "text/plain": [
       "array([4. , 5. , 3.2, 7. ])"
      ]
     },
     "execution_count": 33,
     "metadata": {},
     "output_type": "execute_result"
    }
   ],
   "source": [
    "arr2"
   ]
  },
  {
   "cell_type": "code",
   "execution_count": 7,
   "id": "184e0c37",
   "metadata": {},
   "outputs": [
    {
     "data": {
      "text/plain": [
       "1"
      ]
     },
     "execution_count": 7,
     "metadata": {},
     "output_type": "execute_result"
    }
   ],
   "source": [
    "arr1.ndim # array1 ning o'lchami"
   ]
  },
  {
   "cell_type": "code",
   "execution_count": 8,
   "id": "aa83abe4",
   "metadata": {},
   "outputs": [
    {
     "data": {
      "text/plain": [
       "1"
      ]
     },
     "execution_count": 8,
     "metadata": {},
     "output_type": "execute_result"
    }
   ],
   "source": [
    "arr2.ndim # array2 ning o'lchami"
   ]
  },
  {
   "cell_type": "code",
   "execution_count": 9,
   "id": "0f3b81a7",
   "metadata": {},
   "outputs": [],
   "source": [
    "data3 = [[1, 2, 3, 4], [5, 6, 7, 8]] # list ichidagi list (nested list)\n",
    "arr3 = np.array(data3) # array3"
   ]
  },
  {
   "cell_type": "code",
   "execution_count": 10,
   "id": "4b9ebac0",
   "metadata": {},
   "outputs": [
    {
     "data": {
      "text/plain": [
       "2"
      ]
     },
     "execution_count": 10,
     "metadata": {},
     "output_type": "execute_result"
    }
   ],
   "source": [
    "arr3.ndim # array3 ning o'lchami"
   ]
  },
  {
   "cell_type": "code",
   "execution_count": 17,
   "id": "c5185b7c",
   "metadata": {},
   "outputs": [],
   "source": [
    "data4 = [[1, 2, 3, 4], [5, 6, 7, 8], [9, 0, 10, 11]]\n",
    "arr4 = np.array(data3) # array3"
   ]
  },
  {
   "cell_type": "code",
   "execution_count": 18,
   "id": "97c3e2f1",
   "metadata": {},
   "outputs": [
    {
     "data": {
      "text/plain": [
       "2"
      ]
     },
     "execution_count": 18,
     "metadata": {},
     "output_type": "execute_result"
    }
   ],
   "source": [
    "arr4.ndim"
   ]
  },
  {
   "cell_type": "code",
   "execution_count": 19,
   "id": "36749d59",
   "metadata": {},
   "outputs": [
    {
     "data": {
      "text/plain": [
       "(2, 4)"
      ]
     },
     "execution_count": 19,
     "metadata": {},
     "output_type": "execute_result"
    }
   ],
   "source": [
    "arr3.shape # qator va ustunlar sonini ko'rsatadi"
   ]
  },
  {
   "cell_type": "code",
   "execution_count": 20,
   "id": "052e2016",
   "metadata": {},
   "outputs": [
    {
     "data": {
      "text/plain": [
       "8"
      ]
     },
     "execution_count": 20,
     "metadata": {},
     "output_type": "execute_result"
    }
   ],
   "source": [
    "arr3.size # array3 ning elementlar soni"
   ]
  },
  {
   "cell_type": "code",
   "execution_count": 21,
   "id": "04c23257",
   "metadata": {},
   "outputs": [
    {
     "data": {
      "text/plain": [
       "(2, 4)"
      ]
     },
     "execution_count": 21,
     "metadata": {},
     "output_type": "execute_result"
    }
   ],
   "source": [
    "arr4.shape"
   ]
  },
  {
   "cell_type": "code",
   "execution_count": null,
   "id": "fd938e89",
   "metadata": {},
   "outputs": [],
   "source": []
  },
  {
   "cell_type": "code",
   "execution_count": 22,
   "id": "47314274",
   "metadata": {},
   "outputs": [
    {
     "data": {
      "text/plain": [
       "array([[0., 0., 0., 0.],\n",
       "       [0., 0., 0., 0.]])"
      ]
     },
     "execution_count": 22,
     "metadata": {},
     "output_type": "execute_result"
    }
   ],
   "source": [
    "arr5 = np.zeros(shape =(2, 4)) # barcha elementlari 0 ga teng (2, 4)\n",
    "arr5"
   ]
  },
  {
   "cell_type": "code",
   "execution_count": 25,
   "id": "f8207a9e",
   "metadata": {},
   "outputs": [
    {
     "data": {
      "text/plain": [
       "array([[1., 1., 1., 1.],\n",
       "       [1., 1., 1., 1.]])"
      ]
     },
     "execution_count": 25,
     "metadata": {},
     "output_type": "execute_result"
    }
   ],
   "source": [
    "arr6 = np.ones((2, 4)) # barcha elementlari 1 ga teng bo'lgan (2, 4)\n",
    "arr6"
   ]
  },
  {
   "cell_type": "code",
   "execution_count": 26,
   "id": "8acde5e4",
   "metadata": {},
   "outputs": [
    {
     "data": {
      "text/plain": [
       "array([ 4,  6,  8, 10, 12, 14, 16, 18])"
      ]
     },
     "execution_count": 26,
     "metadata": {},
     "output_type": "execute_result"
    }
   ],
   "source": [
    "arr7 = np.arange(4, 20, 2) # 4 dan 20 gacha bo'lgan qiymatlarni 2 qadam bilan massivga joylab beradi\n",
    "arr7"
   ]
  },
  {
   "cell_type": "code",
   "execution_count": 28,
   "id": "cfcb7595",
   "metadata": {},
   "outputs": [
    {
     "data": {
      "text/plain": [
       "array([ 0,  1,  2,  3,  4,  5,  6,  7,  8,  9, 10, 11, 12, 13, 14, 15, 16,\n",
       "       17, 18, 19])"
      ]
     },
     "execution_count": 28,
     "metadata": {},
     "output_type": "execute_result"
    }
   ],
   "source": [
    "arr8 = np.arange(20) # 0 dan 20 gacha bo'lgan qiymatlarni 1 qadam bilan massivga joylab beradi\n",
    "arr8"
   ]
  },
  {
   "cell_type": "markdown",
   "id": "552ba909",
   "metadata": {},
   "source": [
    "https://colab.research.google.com/drive/1XOQHmRKcuhHbHLaY1ybGUxy14yl7z9Zf?authuser=1#scrollTo=x-L1Q8jkgrQY"
   ]
  },
  {
   "cell_type": "code",
   "execution_count": null,
   "id": "692d07d9",
   "metadata": {},
   "outputs": [],
   "source": []
  }
 ],
 "metadata": {
  "kernelspec": {
   "display_name": "Python 3",
   "language": "python",
   "name": "python3"
  },
  "language_info": {
   "codemirror_mode": {
    "name": "ipython",
    "version": 3
   },
   "file_extension": ".py",
   "mimetype": "text/x-python",
   "name": "python",
   "nbconvert_exporter": "python",
   "pygments_lexer": "ipython3",
   "version": "3.13.3"
  }
 },
 "nbformat": 4,
 "nbformat_minor": 5
}
