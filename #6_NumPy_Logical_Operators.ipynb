{
 "cells": [
  {
   "cell_type": "code",
   "execution_count": 1,
   "id": "3d785f26",
   "metadata": {},
   "outputs": [],
   "source": [
    "import numpy as np"
   ]
  },
  {
   "cell_type": "code",
   "execution_count": 2,
   "id": "78aca283",
   "metadata": {},
   "outputs": [
    {
     "name": "stdout",
     "output_type": "stream",
     "text": [
      "[ 5 10 15 20 25]\n"
     ]
    }
   ],
   "source": [
    "arr = np.array([5, 10, 15, 20, 25])\n",
    "print(arr)"
   ]
  },
  {
   "cell_type": "code",
   "execution_count": 3,
   "id": "d3633c87",
   "metadata": {},
   "outputs": [
    {
     "name": "stdout",
     "output_type": "stream",
     "text": [
      "[False  True False False False]\n",
      "[ True  True False  True  True]\n",
      "[False False  True  True  True]\n",
      "[ True  True  True  True False]\n"
     ]
    }
   ],
   "source": [
    "print(arr == 10)\n",
    "print(arr != 15)\n",
    "print(arr > 12)\n",
    "print(arr <= 20)"
   ]
  },
  {
   "cell_type": "code",
   "execution_count": 9,
   "id": "0c8a553e",
   "metadata": {},
   "outputs": [
    {
     "name": "stdout",
     "output_type": "stream",
     "text": [
      "[ True  True  True False False]\n",
      "[ True False False False  True]\n",
      "[ True  True False False False]\n"
     ]
    }
   ],
   "source": [
    "print((arr > 0) & (arr < 20))\n",
    "print((arr == 5) | (arr == 25))\n",
    "print(~(arr > 10))"
   ]
  },
  {
   "cell_type": "code",
   "execution_count": 5,
   "id": "9d339639",
   "metadata": {},
   "outputs": [
    {
     "name": "stdout",
     "output_type": "stream",
     "text": [
      "[ True  True  True False False]\n",
      "[ True False False False  True]\n"
     ]
    }
   ],
   "source": [
    "print(np.logical_and(arr > 0, arr < 20))\n",
    "print(np.logical_or(arr == 5, arr == 25))"
   ]
  },
  {
   "cell_type": "code",
   "execution_count": 6,
   "id": "1317ca70",
   "metadata": {},
   "outputs": [
    {
     "name": "stdout",
     "output_type": "stream",
     "text": [
      "True\n",
      "True\n"
     ]
    }
   ],
   "source": [
    "print(np.any(arr > 20))\n",
    "print(np.all(arr < 30))"
   ]
  }
 ],
 "metadata": {
  "kernelspec": {
   "display_name": "Python 3",
   "language": "python",
   "name": "python3"
  },
  "language_info": {
   "codemirror_mode": {
    "name": "ipython",
    "version": 3
   },
   "file_extension": ".py",
   "mimetype": "text/x-python",
   "name": "python",
   "nbconvert_exporter": "python",
   "pygments_lexer": "ipython3",
   "version": "3.13.3"
  }
 },
 "nbformat": 4,
 "nbformat_minor": 5
}
