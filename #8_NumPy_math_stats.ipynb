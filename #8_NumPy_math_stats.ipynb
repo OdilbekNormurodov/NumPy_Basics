{
 "cells": [
  {
   "cell_type": "code",
   "execution_count": 1,
   "id": "e4fb4f0d",
   "metadata": {},
   "outputs": [],
   "source": [
    "import numpy as np"
   ]
  },
  {
   "cell_type": "code",
   "execution_count": 2,
   "id": "0464d6de",
   "metadata": {},
   "outputs": [],
   "source": [
    "a = np.array([1, 2, 3, 4, 5])"
   ]
  },
  {
   "cell_type": "code",
   "execution_count": 3,
   "id": "33307326",
   "metadata": {},
   "outputs": [
    {
     "name": "stdout",
     "output_type": "stream",
     "text": [
      "[ 6  7  8  9 10]\n",
      "[-1  0  1  2  3]\n",
      "[10 20 30 40 50]\n",
      "[ 1  4  9 16 25]\n",
      "[0.5 1.  1.5 2.  2.5]\n"
     ]
    }
   ],
   "source": [
    "print(a + 5)\n",
    "print(a - 2)\n",
    "print(a * 10)\n",
    "print(a ** 2)\n",
    "print(a / 2)"
   ]
  },
  {
   "cell_type": "code",
   "execution_count": 4,
   "id": "96424814",
   "metadata": {},
   "outputs": [
    {
     "name": "stdout",
     "output_type": "stream",
     "text": [
      "Yig'indisi: 15\n",
      "O'rtachasi: 3.0\n",
      "Median: 3.0\n",
      "Minimum: 1\n",
      "Maximum: 5\n",
      "Standart og'ish: 1.4142135623730951\n"
     ]
    }
   ],
   "source": [
    "print(\"Yig'indisi:\", np.sum(a))\n",
    "print(\"O'rtachasi:\", np.mean(a))\n",
    "print(\"Median:\", np.median(a))\n",
    "print(\"Minimum:\", np.min(a))\n",
    "print(\"Maximum:\", np.max(a))\n",
    "print(\"Standart og'ish:\", np.std(a))"
   ]
  }
 ],
 "metadata": {
  "kernelspec": {
   "display_name": "Python 3",
   "language": "python",
   "name": "python3"
  },
  "language_info": {
   "codemirror_mode": {
    "name": "ipython",
    "version": 3
   },
   "file_extension": ".py",
   "mimetype": "text/x-python",
   "name": "python",
   "nbconvert_exporter": "python",
   "pygments_lexer": "ipython3",
   "version": "3.13.3"
  }
 },
 "nbformat": 4,
 "nbformat_minor": 5
}
