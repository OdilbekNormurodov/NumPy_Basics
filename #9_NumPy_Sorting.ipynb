{
 "cells": [
  {
   "cell_type": "code",
   "execution_count": 1,
   "id": "d183282e",
   "metadata": {},
   "outputs": [],
   "source": [
    "import numpy as np"
   ]
  },
  {
   "cell_type": "code",
   "execution_count": 2,
   "id": "bd5865fa",
   "metadata": {},
   "outputs": [],
   "source": [
    "a = np.array([5, 3, 1, 4, 2])"
   ]
  },
  {
   "cell_type": "code",
   "execution_count": 3,
   "id": "4713e0c9",
   "metadata": {},
   "outputs": [
    {
     "name": "stdout",
     "output_type": "stream",
     "text": [
      "Sorted: [1 2 3 4 5]\n"
     ]
    }
   ],
   "source": [
    "print(\"Sorted:\", np.sort(a))"
   ]
  },
  {
   "cell_type": "code",
   "execution_count": 4,
   "id": "98efb45e",
   "metadata": {},
   "outputs": [],
   "source": [
    "b = np.array([[3, 1, 2], [6, 4, 5]])"
   ]
  },
  {
   "cell_type": "code",
   "execution_count": 5,
   "id": "342c7a83",
   "metadata": {},
   "outputs": [
    {
     "name": "stdout",
     "output_type": "stream",
     "text": [
      "Axis=1 bo‘yicha: [[1 2 3]\n",
      " [4 5 6]]\n",
      "Axis=0 bo‘yicha: [[3 1 2]\n",
      " [6 4 5]]\n"
     ]
    }
   ],
   "source": [
    "print(\"Axis=1 bo‘yicha:\", np.sort(b, axis=1))  # har bir qatorda\n",
    "print(\"Axis=0 bo‘yicha:\", np.sort(b, axis=0))  # har bir ustunda"
   ]
  },
  {
   "cell_type": "code",
   "execution_count": 6,
   "id": "d2138191",
   "metadata": {},
   "outputs": [
    {
     "name": "stdout",
     "output_type": "stream",
     "text": [
      "Tartiblash indekslari: [2 4 1 3 0]\n"
     ]
    }
   ],
   "source": [
    "print(\"Tartiblash indekslari:\", np.argsort(a))"
   ]
  }
 ],
 "metadata": {
  "kernelspec": {
   "display_name": "Python 3",
   "language": "python",
   "name": "python3"
  },
  "language_info": {
   "codemirror_mode": {
    "name": "ipython",
    "version": 3
   },
   "file_extension": ".py",
   "mimetype": "text/x-python",
   "name": "python",
   "nbconvert_exporter": "python",
   "pygments_lexer": "ipython3",
   "version": "3.13.3"
  }
 },
 "nbformat": 4,
 "nbformat_minor": 5
}
